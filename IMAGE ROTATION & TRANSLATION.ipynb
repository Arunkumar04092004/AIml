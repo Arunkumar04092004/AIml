{
 "cells": [
  {
   "cell_type": "code",
   "execution_count": 1,
   "id": "56667a80",
   "metadata": {},
   "outputs": [],
   "source": [
    "import cv2\n",
    "import numpy as np"
   ]
  },
  {
   "cell_type": "code",
   "execution_count": 2,
   "id": "96d9a052",
   "metadata": {},
   "outputs": [],
   "source": [
    "a=cv2.imread(\"C:/Users/SN139/Downloads/trees.jpg\")"
   ]
  },
  {
   "cell_type": "code",
   "execution_count": 3,
   "id": "74520f48",
   "metadata": {},
   "outputs": [
    {
     "data": {
      "text/plain": [
       "array([[[ 58,  69, 131],\n",
       "        [ 54,  67, 129],\n",
       "        [ 55,  73, 134],\n",
       "        ...,\n",
       "        [  9, 104,  84],\n",
       "        [  7, 105,  83],\n",
       "        [  9, 107,  85]],\n",
       "\n",
       "       [[ 55,  66, 128],\n",
       "        [ 51,  65, 124],\n",
       "        [ 51,  69, 130],\n",
       "        ...,\n",
       "        [  8, 100,  81],\n",
       "        [  6, 101,  80],\n",
       "        [  8, 103,  82]],\n",
       "\n",
       "       [[ 44,  58, 117],\n",
       "        [ 41,  58, 115],\n",
       "        [ 43,  61, 120],\n",
       "        ...,\n",
       "        [  6,  97,  76],\n",
       "        [  6,  97,  76],\n",
       "        [  7,  98,  77]],\n",
       "\n",
       "       ...,\n",
       "\n",
       "       [[  1,  75,  45],\n",
       "        [  3,  77,  47],\n",
       "        [  3,  77,  47],\n",
       "        ...,\n",
       "        [  0,  67,  40],\n",
       "        [  0,  65,  38],\n",
       "        [  0,  64,  37]],\n",
       "\n",
       "       [[  0,  74,  44],\n",
       "        [  2,  76,  46],\n",
       "        [  2,  76,  46],\n",
       "        ...,\n",
       "        [  0,  65,  38],\n",
       "        [  0,  62,  36],\n",
       "        [  0,  61,  35]],\n",
       "\n",
       "       [[  0,  74,  44],\n",
       "        [  2,  76,  46],\n",
       "        [  0,  74,  44],\n",
       "        ...,\n",
       "        [  0,  64,  37],\n",
       "        [  0,  62,  36],\n",
       "        [  0,  60,  34]]], dtype=uint8)"
      ]
     },
     "execution_count": 3,
     "metadata": {},
     "output_type": "execute_result"
    }
   ],
   "source": [
    "a"
   ]
  },
  {
   "cell_type": "code",
   "execution_count": 4,
   "id": "bec7f898",
   "metadata": {},
   "outputs": [],
   "source": [
    "rs=cv2.resize(a,(180,180))"
   ]
  },
  {
   "cell_type": "code",
   "execution_count": 5,
   "id": "6b301aa2",
   "metadata": {},
   "outputs": [
    {
     "data": {
      "text/plain": [
       "array([[[  0,  58,  59],\n",
       "        [ 12,  54, 120],\n",
       "        [  2,  73, 117],\n",
       "        ...,\n",
       "        [  0,  79,  66],\n",
       "        [  2,  81,  68],\n",
       "        [  9,  79,  69]],\n",
       "\n",
       "       [[  3,  74,  93],\n",
       "        [  5, 131, 137],\n",
       "        [ 17, 114, 174],\n",
       "        ...,\n",
       "        [  4,  62,  57],\n",
       "        [  7, 111,  94],\n",
       "        [ 20,  91,  75]],\n",
       "\n",
       "       [[  0,  69,  66],\n",
       "        [ 11,  21,  35],\n",
       "        [  0,  36,  48],\n",
       "        ...,\n",
       "        [  7,  60,  71],\n",
       "        [  5,  99,  65],\n",
       "        [  1,  70,  57]],\n",
       "\n",
       "       ...,\n",
       "\n",
       "       [[  1,  17,  23],\n",
       "        [  8,  86,  62],\n",
       "        [  2,   8,  53],\n",
       "        ...,\n",
       "        [  0,  60,  38],\n",
       "        [  2,  73,  57],\n",
       "        [  1,  95,  71]],\n",
       "\n",
       "       [[  0,  19,  24],\n",
       "        [  0,  29,  39],\n",
       "        [  4, 106,  26],\n",
       "        ...,\n",
       "        [  1,  71,  35],\n",
       "        [  3,  70,  54],\n",
       "        [  3,  90,  64]],\n",
       "\n",
       "       [[  4,  63,  54],\n",
       "        [  1,  45,  14],\n",
       "        [  0,  42,  31],\n",
       "        ...,\n",
       "        [  2,  78,  56],\n",
       "        [  1,  97,  59],\n",
       "        [  2,  84,  61]]], dtype=uint8)"
      ]
     },
     "execution_count": 5,
     "metadata": {},
     "output_type": "execute_result"
    }
   ],
   "source": [
    "rs"
   ]
  },
  {
   "cell_type": "code",
   "execution_count": 6,
   "id": "8553955e",
   "metadata": {},
   "outputs": [],
   "source": [
    "shape=rs.shape"
   ]
  },
  {
   "cell_type": "code",
   "execution_count": 7,
   "id": "5c00f963",
   "metadata": {},
   "outputs": [
    {
     "data": {
      "text/plain": [
       "(180, 180, 3)"
      ]
     },
     "execution_count": 7,
     "metadata": {},
     "output_type": "execute_result"
    }
   ],
   "source": [
    "shape"
   ]
  },
  {
   "cell_type": "code",
   "execution_count": 8,
   "id": "5cf3a965",
   "metadata": {},
   "outputs": [
    {
     "name": "stdout",
     "output_type": "stream",
     "text": [
      "180\n",
      "180\n"
     ]
    }
   ],
   "source": [
    "height,width=rs.shape[:2]\n",
    "print(height)\n",
    "print(width)"
   ]
  },
  {
   "cell_type": "code",
   "execution_count": 9,
   "id": "5a75b438",
   "metadata": {},
   "outputs": [
    {
     "data": {
      "text/plain": [
       "(90.0, 90.0)"
      ]
     },
     "execution_count": 9,
     "metadata": {},
     "output_type": "execute_result"
    }
   ],
   "source": [
    "c=(height/2,width/2)\n",
    "c"
   ]
  },
  {
   "cell_type": "code",
   "execution_count": 65,
   "id": "6e2859ec",
   "metadata": {},
   "outputs": [],
   "source": [
    "#ROTATION MATRIX\n",
    "rm=cv2.getRotationMatrix2D(center=c,angle=90,scale=0.6)"
   ]
  },
  {
   "cell_type": "code",
   "execution_count": 66,
   "id": "8e017ee3",
   "metadata": {
    "scrolled": true
   },
   "outputs": [
    {
     "data": {
      "text/plain": [
       "array([[ 3.6739404e-17,  6.0000000e-01,  3.6000000e+01],\n",
       "       [-6.0000000e-01,  3.6739404e-17,  1.4400000e+02]])"
      ]
     },
     "execution_count": 66,
     "metadata": {},
     "output_type": "execute_result"
    }
   ],
   "source": [
    "rm"
   ]
  },
  {
   "cell_type": "code",
   "execution_count": 67,
   "id": "99c87127",
   "metadata": {},
   "outputs": [],
   "source": [
    "#ROTATED IMAGE\n",
    "ri=cv2.warpAffine(src=rs,M=rm,dsize=(height,width))"
   ]
  },
  {
   "cell_type": "code",
   "execution_count": 68,
   "id": "1d9876dc",
   "metadata": {},
   "outputs": [
    {
     "data": {
      "text/plain": [
       "-1"
      ]
     },
     "execution_count": 68,
     "metadata": {},
     "output_type": "execute_result"
    }
   ],
   "source": [
    "cv2.imshow(\"Original image\",rs)\n",
    "cv2.waitKey(0)\n",
    "cv2.imshow(\"ROTATED IMAGE\",ri)\n",
    "cv2.waitKey(0)\n",
    "cv2.destroyAllWindows()"
   ]
  },
  {
   "cell_type": "markdown",
   "id": "b807b5b9",
   "metadata": {},
   "source": [
    "# TRANSLATION MATRIX"
   ]
  },
  {
   "cell_type": "code",
   "execution_count": 69,
   "id": "58ff6e8c",
   "metadata": {},
   "outputs": [],
   "source": [
    "tx,ty=width/2,height/2"
   ]
  },
  {
   "cell_type": "code",
   "execution_count": 70,
   "id": "e73430a8",
   "metadata": {},
   "outputs": [],
   "source": [
    "#TRANSLATION MATRIX\n",
    "tm=np.array([[1,0,tx],[0,1,ty]])"
   ]
  },
  {
   "cell_type": "code",
   "execution_count": 71,
   "id": "94b7b2c3",
   "metadata": {},
   "outputs": [
    {
     "data": {
      "text/plain": [
       "array([[ 1.,  0., 90.],\n",
       "       [ 0.,  1., 90.]])"
      ]
     },
     "execution_count": 71,
     "metadata": {},
     "output_type": "execute_result"
    }
   ],
   "source": [
    "tm"
   ]
  },
  {
   "cell_type": "code",
   "execution_count": 72,
   "id": "bb7dea3a",
   "metadata": {},
   "outputs": [],
   "source": [
    "ti=cv2.warpAffine(src=rs,M=tm,dsize=(height,width))"
   ]
  },
  {
   "cell_type": "code",
   "execution_count": null,
   "id": "994d9f4d",
   "metadata": {},
   "outputs": [],
   "source": [
    "cv2.imshow(\"Original image\",rs)\n",
    "cv2.waitKey(0)\n",
    "cv2.imshow(\"TRANSLATION IMAGE\",ti)\n",
    "cv2.waitKey(0)\n",
    "cv2.destroyAllWindows()"
   ]
  },
  {
   "cell_type": "code",
   "execution_count": null,
   "id": "8aef19dd",
   "metadata": {},
   "outputs": [],
   "source": []
  }
 ],
 "metadata": {
  "kernelspec": {
   "display_name": "Python 3 (ipykernel)",
   "language": "python",
   "name": "python3"
  },
  "language_info": {
   "codemirror_mode": {
    "name": "ipython",
    "version": 3
   },
   "file_extension": ".py",
   "mimetype": "text/x-python",
   "name": "python",
   "nbconvert_exporter": "python",
   "pygments_lexer": "ipython3",
   "version": "3.11.5"
  }
 },
 "nbformat": 4,
 "nbformat_minor": 5
}
