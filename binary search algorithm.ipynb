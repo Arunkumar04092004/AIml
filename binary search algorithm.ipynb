{
 "cells": [
  {
   "cell_type": "code",
   "execution_count": 30,
   "id": "9351dfdc",
   "metadata": {
    "scrolled": true
   },
   "outputs": [],
   "source": [
    "num = [1,33,99,66,87,56,43,97,22,55,11,75,35,79,32,88,77,51,98,52]"
   ]
  },
  {
   "cell_type": "code",
   "execution_count": 31,
   "id": "a9f7e802",
   "metadata": {},
   "outputs": [],
   "source": [
    "num.sort()"
   ]
  },
  {
   "cell_type": "code",
   "execution_count": 32,
   "id": "4f358b2d",
   "metadata": {},
   "outputs": [
    {
     "name": "stdout",
     "output_type": "stream",
     "text": [
      "[1, 11, 22, 32, 33, 35, 43, 51, 52, 55, 56, 66, 75, 77, 79, 87, 88, 97, 98, 99]\n"
     ]
    }
   ],
   "source": [
    "print(num)"
   ]
  },
  {
   "cell_type": "code",
   "execution_count": 33,
   "id": "a8cd1fa1",
   "metadata": {},
   "outputs": [
    {
     "name": "stdout",
     "output_type": "stream",
     "text": [
      "enter the number :11\n"
     ]
    }
   ],
   "source": [
    "elem=int(input(\"enter the number :\"))"
   ]
  },
  {
   "cell_type": "code",
   "execution_count": 34,
   "id": "c72df415",
   "metadata": {},
   "outputs": [],
   "source": [
    "def binary_search(num,elem):\n",
    "    low=0\n",
    "    high=len(num)-1\n",
    "    while low<=high:\n",
    "        middle=(low + high)//2\n",
    "        \n",
    "        if num[middle]==elem:\n",
    "            print(f\"the searching element {elem} is present at index {middle} in the list\")\n",
    "            break    \n",
    "        elif num[middle]>elem:\n",
    "            high=middle-1\n",
    "        else:\n",
    "            low=middle+1\n",
    "    if num[middle] !=elem:\n",
    "        print(f\"the searching element {elem} is not present in the dataset\")\n",
    "        return\n",
    "            \n",
    "            \n",
    "\n",
    "            "
   ]
  },
  {
   "cell_type": "code",
   "execution_count": 35,
   "id": "288dc01f",
   "metadata": {},
   "outputs": [
    {
     "name": "stdout",
     "output_type": "stream",
     "text": [
      "the searching element 11 is present at index 1 in the list\n"
     ]
    }
   ],
   "source": [
    "binary_search(num,elem)"
   ]
  },
  {
   "cell_type": "code",
   "execution_count": null,
   "id": "b763143c",
   "metadata": {},
   "outputs": [],
   "source": []
  }
 ],
 "metadata": {
  "kernelspec": {
   "display_name": "Python 3 (ipykernel)",
   "language": "python",
   "name": "python3"
  },
  "language_info": {
   "codemirror_mode": {
    "name": "ipython",
    "version": 3
   },
   "file_extension": ".py",
   "mimetype": "text/x-python",
   "name": "python",
   "nbconvert_exporter": "python",
   "pygments_lexer": "ipython3",
   "version": "3.11.4"
  }
 },
 "nbformat": 4,
 "nbformat_minor": 5
}
