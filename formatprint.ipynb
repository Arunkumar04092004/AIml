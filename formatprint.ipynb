{
 "cells": [
  {
   "cell_type": "code",
   "execution_count": 3,
   "id": "49e2b401",
   "metadata": {},
   "outputs": [],
   "source": [
    "BIO={\"name\":\"veeramani\",\"age\":20,\"regno\":122012012891,\"bg\":\"b+ve\",\"district\":\"thanjavur\"}"
   ]
  },
  {
   "cell_type": "code",
   "execution_count": 4,
   "id": "2d13b68f",
   "metadata": {},
   "outputs": [
    {
     "name": "stdout",
     "output_type": "stream",
     "text": [
      "MY NAME IS : 20\n"
     ]
    }
   ],
   "source": [
    "print(f\"MY NAME IS : {BIO['age']}\")"
   ]
  },
  {
   "cell_type": "code",
   "execution_count": 11,
   "id": "fe7065b1",
   "metadata": {},
   "outputs": [
    {
     "name": "stdout",
     "output_type": "stream",
     "text": [
      "true\n"
     ]
    }
   ],
   "source": [
    "a=1\n",
    "if a>=1:\n",
    "    print(\"true\")\n",
    "else:\n",
    "    print(\"false\")"
   ]
  },
  {
   "cell_type": "code",
   "execution_count": 14,
   "id": "bb5626d2",
   "metadata": {},
   "outputs": [
    {
     "name": "stdout",
     "output_type": "stream",
     "text": [
      "Enter your age : 18\n",
      "you eligible to vote\n"
     ]
    }
   ],
   "source": [
    "age=int(input(\"Enter your age : \"))\n",
    "if age>17:\n",
    "    print(\"you eligible to vote\")\n",
    "else:\n",
    "    print(\"you not eligible to vote\")"
   ]
  },
  {
   "cell_type": "code",
   "execution_count": 17,
   "id": "2685b553",
   "metadata": {},
   "outputs": [
    {
     "name": "stdout",
     "output_type": "stream",
     "text": [
      "Enter your age20\n",
      "your eligible to vote \n",
      " fill your details\n",
      "Enter your name : veera\n",
      "Enter your ward no : 10\n",
      "Go to your voting ward on 26/08/2023\n"
     ]
    }
   ],
   "source": [
    "age=int(input(\"Enter your age\"))\n",
    "if age>17:\n",
    "    print(\"your eligible to vote \\n fill your details\")\n",
    "    Name=input(\"Enter your name : \")\n",
    "    ward_no=input(\"Enter your ward no : \")\n",
    "    print(\"Go to your voting ward on 26/08/2023\")\n",
    "else:\n",
    "    print(\" your not eligible to vote\")\n",
    "    \n"
   ]
  },
  {
   "cell_type": "code",
   "execution_count": 1,
   "id": "545fba58",
   "metadata": {},
   "outputs": [
    {
     "name": "stdout",
     "output_type": "stream",
     "text": [
      "b is great number\n"
     ]
    }
   ],
   "source": [
    "a=25\n",
    "b=35\n",
    "c=15\n",
    "if a>b and a>c:\n",
    "    print(\"a is great number\")\n",
    "elif b>c:\n",
    "    print(\"b is great number\")\n",
    "else:\n",
    "    print()"
   ]
  },
  {
   "cell_type": "code",
   "execution_count": 1,
   "id": "1f469255",
   "metadata": {},
   "outputs": [
    {
     "name": "stdout",
     "output_type": "stream",
     "text": [
      "Fees date : 7\n",
      "your not permitted\n"
     ]
    }
   ],
   "source": [
    "d=int(input(\"Fees date : \"))\n",
    "if d==1:\n",
    "    print(\"fees amount is 10\")\n",
    "elif d==2:\n",
    "    print(\"your one day late , your fees amount is 15\")\n",
    "elif d==3:\n",
    "    print(\"your two days late , your fees amount is 25\")\n",
    "else:\n",
    "    print(\"your not permitted\")"
   ]
  },
  {
   "cell_type": "code",
   "execution_count": 3,
   "id": "119e2215",
   "metadata": {},
   "outputs": [
    {
     "name": "stdout",
     "output_type": "stream",
     "text": [
      "Enter the days delayed: 10\n",
      "Your fine amount is: 40 rupees\n"
     ]
    }
   ],
   "source": [
    "latefee={1:\"20 rupees\",2:\"40 rupees\",3:\"60 rupees\"}\n",
    "lateday=int(input(\"Enter the days delayed: \"))\n",
    "if lateday<1 and lateday>0:\n",
    "    print(\"No fine amount\")\n",
    "elif lateday>=1 and lateday<=7:\n",
    "    print(f\"Your fine amount is: {latefee[1]}\")\n",
    "elif lateday>7 and lateday<=14:\n",
    "    print(f\"Your fine amount is: {latefee[2]}\")\n",
    "else:\n",
    "    print(f\"Your fine amount is: {latefee[3]}\")"
   ]
  },
  {
   "cell_type": "code",
   "execution_count": null,
   "id": "e988c111",
   "metadata": {},
   "outputs": [],
   "source": []
  }
 ],
 "metadata": {
  "kernelspec": {
   "display_name": "Python 3 (ipykernel)",
   "language": "python",
   "name": "python3"
  },
  "language_info": {
   "codemirror_mode": {
    "name": "ipython",
    "version": 3
   },
   "file_extension": ".py",
   "mimetype": "text/x-python",
   "name": "python",
   "nbconvert_exporter": "python",
   "pygments_lexer": "ipython3",
   "version": "3.9.17"
  }
 },
 "nbformat": 4,
 "nbformat_minor": 5
}
