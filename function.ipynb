{
 "cells": [
  {
   "cell_type": "code",
   "execution_count": null,
   "id": "81176042",
   "metadata": {},
   "outputs": [],
   "source": [
    "def birthday():\n",
    "    print(\"buying birth day cake\")\n",
    "    print(\"inviting friends and others\")\n",
    "    print(\"cutting cake\")\n",
    "    print(\"giving gift\")\n",
    "\n",
    "  "
   ]
  },
  {
   "cell_type": "code",
   "execution_count": 4,
   "id": "1418c3df",
   "metadata": {},
   "outputs": [],
   "source": [
    "def eligiblity():\n",
    "    age=int(input(\"enter your age: \"))\n",
    "    if age>17:\n",
    "        print(\"You are eligible to vote\")\n",
    "    else:\n",
    "        print(\"You are not eligible to vote\")\n",
    "        "
   ]
  },
  {
   "cell_type": "code",
   "execution_count": 5,
   "id": "80300713",
   "metadata": {},
   "outputs": [
    {
     "name": "stdout",
     "output_type": "stream",
     "text": [
      "enter your age: 20\n",
      "You are eligible to vote\n"
     ]
    }
   ],
   "source": [
    "eligiblity()"
   ]
  },
  {
   "cell_type": "markdown",
   "id": "e6a08f02",
   "metadata": {},
   "source": []
  }
 ],
 "metadata": {
  "kernelspec": {
   "display_name": "Python 3 (ipykernel)",
   "language": "python",
   "name": "python3"
  },
  "language_info": {
   "codemirror_mode": {
    "name": "ipython",
    "version": 3
   },
   "file_extension": ".py",
   "mimetype": "text/x-python",
   "name": "python",
   "nbconvert_exporter": "python",
   "pygments_lexer": "ipython3",
   "version": "3.11.4"
  }
 },
 "nbformat": 4,
 "nbformat_minor": 5
}
