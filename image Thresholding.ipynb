{
 "cells": [
  {
   "cell_type": "code",
   "execution_count": 1,
   "id": "18381c74",
   "metadata": {},
   "outputs": [],
   "source": [
    "import cv2\n",
    "import numpy as np"
   ]
  },
  {
   "cell_type": "code",
   "execution_count": 2,
   "id": "56aa2314",
   "metadata": {},
   "outputs": [],
   "source": [
    "a=cv2.imread(\"C:/Users/SN139/Downloads/jpg.jpg\",0)"
   ]
  },
  {
   "cell_type": "code",
   "execution_count": 3,
   "id": "e5a21f74",
   "metadata": {},
   "outputs": [],
   "source": [
    "cv2.imshow(\"img\",a)\n",
    "cv2.waitKey(0)\n",
    "cv2.destroyAllWindows()"
   ]
  },
  {
   "cell_type": "code",
   "execution_count": 4,
   "id": "5dd7b094",
   "metadata": {},
   "outputs": [
    {
     "data": {
      "text/plain": [
       "array([[153, 144, 132, ...,  87,  85,  89],\n",
       "       [155, 146, 133, ...,  89,  87,  91],\n",
       "       [158, 147, 136, ...,  91,  89,  93],\n",
       "       ...,\n",
       "       [159, 152, 140, ..., 118, 111, 101],\n",
       "       [162, 154, 142, ..., 119, 111, 101],\n",
       "       [161, 155, 144, ..., 119, 110, 100]], dtype=uint8)"
      ]
     },
     "execution_count": 4,
     "metadata": {},
     "output_type": "execute_result"
    }
   ],
   "source": [
    "a"
   ]
  },
  {
   "cell_type": "code",
   "execution_count": 5,
   "id": "303659a6",
   "metadata": {},
   "outputs": [],
   "source": [
    "ret,thres=cv2.threshold(a,153,100,cv2.THRESH_BINARY)"
   ]
  },
  {
   "cell_type": "code",
   "execution_count": 6,
   "id": "476612c9",
   "metadata": {},
   "outputs": [
    {
     "name": "stdout",
     "output_type": "stream",
     "text": [
      "153.0\n"
     ]
    }
   ],
   "source": [
    "print(ret)"
   ]
  },
  {
   "cell_type": "code",
   "execution_count": 7,
   "id": "4cb8d95d",
   "metadata": {},
   "outputs": [],
   "source": [
    "cv2.imshow(\"img\",thres)\n",
    "cv2.waitKey(0)\n",
    "cv2.destroyAllWindows()"
   ]
  },
  {
   "cell_type": "code",
   "execution_count": 8,
   "id": "796d0fb6",
   "metadata": {},
   "outputs": [
    {
     "data": {
      "text/plain": [
       "array([[  0,   0,   0, ...,   0,   0,   0],\n",
       "       [100,   0,   0, ...,   0,   0,   0],\n",
       "       [100,   0,   0, ...,   0,   0,   0],\n",
       "       ...,\n",
       "       [100,   0,   0, ...,   0,   0,   0],\n",
       "       [100, 100,   0, ...,   0,   0,   0],\n",
       "       [100, 100,   0, ...,   0,   0,   0]], dtype=uint8)"
      ]
     },
     "execution_count": 8,
     "metadata": {},
     "output_type": "execute_result"
    }
   ],
   "source": [
    "thres"
   ]
  },
  {
   "cell_type": "markdown",
   "id": "5e045760",
   "metadata": {},
   "source": [
    "# syntax"
   ]
  },
  {
   "cell_type": "markdown",
   "id": "89f354c3",
   "metadata": {},
   "source": [
    "#syntax:\n",
    "  ret,varname=cv2.threshold(inputimage,threshold limit,replace value,<threshold type>)"
   ]
  },
  {
   "cell_type": "code",
   "execution_count": 9,
   "id": "ace61a1d",
   "metadata": {},
   "outputs": [],
   "source": [
    "ret,thres1=cv2.threshold(a,153,100,cv2.THRESH_BINARY)\n",
    "ret,thres2=cv2.threshold(a,153,100,cv2.THRESH_BINARY_INV)\n",
    "ret,thres3=cv2.threshold(a,153,100,cv2.THRESH_TRUNC)\n",
    "ret,thres4=cv2.threshold(a,153,100,cv2.THRESH_TOZERO)\n",
    "ret,thres5=cv2.threshold(a,153,100,cv2.THRESH_TOZERO_INV)"
   ]
  },
  {
   "cell_type": "code",
   "execution_count": 10,
   "id": "d21da451",
   "metadata": {},
   "outputs": [
    {
     "data": {
      "text/plain": [
       "array([[  0,   0,   0, ...,   0,   0,   0],\n",
       "       [100,   0,   0, ...,   0,   0,   0],\n",
       "       [100,   0,   0, ...,   0,   0,   0],\n",
       "       ...,\n",
       "       [100,   0,   0, ...,   0,   0,   0],\n",
       "       [100, 100,   0, ...,   0,   0,   0],\n",
       "       [100, 100,   0, ...,   0,   0,   0]], dtype=uint8)"
      ]
     },
     "execution_count": 10,
     "metadata": {},
     "output_type": "execute_result"
    }
   ],
   "source": [
    "thres1"
   ]
  },
  {
   "cell_type": "code",
   "execution_count": 11,
   "id": "7d6decb5",
   "metadata": {},
   "outputs": [
    {
     "data": {
      "text/plain": [
       "array([[100, 100, 100, ..., 100, 100, 100],\n",
       "       [  0, 100, 100, ..., 100, 100, 100],\n",
       "       [  0, 100, 100, ..., 100, 100, 100],\n",
       "       ...,\n",
       "       [  0, 100, 100, ..., 100, 100, 100],\n",
       "       [  0,   0, 100, ..., 100, 100, 100],\n",
       "       [  0,   0, 100, ..., 100, 100, 100]], dtype=uint8)"
      ]
     },
     "execution_count": 11,
     "metadata": {},
     "output_type": "execute_result"
    }
   ],
   "source": [
    "thres2"
   ]
  },
  {
   "cell_type": "code",
   "execution_count": 12,
   "id": "53cb1de0",
   "metadata": {},
   "outputs": [
    {
     "data": {
      "text/plain": [
       "array([[153, 144, 132, ...,  87,  85,  89],\n",
       "       [153, 146, 133, ...,  89,  87,  91],\n",
       "       [153, 147, 136, ...,  91,  89,  93],\n",
       "       ...,\n",
       "       [153, 152, 140, ..., 118, 111, 101],\n",
       "       [153, 153, 142, ..., 119, 111, 101],\n",
       "       [153, 153, 144, ..., 119, 110, 100]], dtype=uint8)"
      ]
     },
     "execution_count": 12,
     "metadata": {},
     "output_type": "execute_result"
    }
   ],
   "source": [
    "thres3"
   ]
  },
  {
   "cell_type": "code",
   "execution_count": 13,
   "id": "c56e4431",
   "metadata": {},
   "outputs": [
    {
     "data": {
      "text/plain": [
       "array([[  0,   0,   0, ...,   0,   0,   0],\n",
       "       [155,   0,   0, ...,   0,   0,   0],\n",
       "       [158,   0,   0, ...,   0,   0,   0],\n",
       "       ...,\n",
       "       [159,   0,   0, ...,   0,   0,   0],\n",
       "       [162, 154,   0, ...,   0,   0,   0],\n",
       "       [161, 155,   0, ...,   0,   0,   0]], dtype=uint8)"
      ]
     },
     "execution_count": 13,
     "metadata": {},
     "output_type": "execute_result"
    }
   ],
   "source": [
    "thres4"
   ]
  },
  {
   "cell_type": "code",
   "execution_count": 14,
   "id": "4fdc8028",
   "metadata": {},
   "outputs": [
    {
     "data": {
      "text/plain": [
       "array([[153, 144, 132, ...,  87,  85,  89],\n",
       "       [  0, 146, 133, ...,  89,  87,  91],\n",
       "       [  0, 147, 136, ...,  91,  89,  93],\n",
       "       ...,\n",
       "       [  0, 152, 140, ..., 118, 111, 101],\n",
       "       [  0,   0, 142, ..., 119, 111, 101],\n",
       "       [  0,   0, 144, ..., 119, 110, 100]], dtype=uint8)"
      ]
     },
     "execution_count": 14,
     "metadata": {},
     "output_type": "execute_result"
    }
   ],
   "source": [
    "thres5"
   ]
  },
  {
   "cell_type": "code",
   "execution_count": null,
   "id": "b8971212",
   "metadata": {},
   "outputs": [],
   "source": [
    "cv2.imshow(\"img1\",thres1)\n",
    "cv2.waitKey(0)\n",
    "cv2.imshow(\"img1\",thres2)\n",
    "cv2.waitKey(0)\n",
    "cv2.imshow(\"img1\",thres3)\n",
    "cv2.waitKey(0)\n",
    "cv2.imshow(\"img1\",thres4)\n",
    "cv2.waitKey(0)\n",
    "cv2.imshow(\"img1\",thres5)\n",
    "cv2.waitKey(0)\n",
    "cv2.destroyAllWindows()"
   ]
  },
  {
   "cell_type": "code",
   "execution_count": null,
   "id": "ffcb0ffb",
   "metadata": {},
   "outputs": [],
   "source": []
  }
 ],
 "metadata": {
  "kernelspec": {
   "display_name": "Python 3 (ipykernel)",
   "language": "python",
   "name": "python3"
  },
  "language_info": {
   "codemirror_mode": {
    "name": "ipython",
    "version": 3
   },
   "file_extension": ".py",
   "mimetype": "text/x-python",
   "name": "python",
   "nbconvert_exporter": "python",
   "pygments_lexer": "ipython3",
   "version": "3.11.5"
  }
 },
 "nbformat": 4,
 "nbformat_minor": 5
}
