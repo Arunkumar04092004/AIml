{
 "cells": [
  {
   "cell_type": "code",
   "execution_count": 1,
   "id": "6bfbda66",
   "metadata": {},
   "outputs": [],
   "source": [
    "import cv2\n",
    "import numpy as np"
   ]
  },
  {
   "cell_type": "code",
   "execution_count": 2,
   "id": "c19f4b11",
   "metadata": {},
   "outputs": [],
   "source": [
    "a=cv2.imread(\"C:/Users/SN139/Downloads/img1.png\")\n",
    "b=cv2.imread(\"C:/Users/SN139/Downloads/img2.png\")\n",
    "c=cv2.imread(\"C:/Users/SN139/Downloads/jpg.jpg\")"
   ]
  },
  {
   "cell_type": "code",
   "execution_count": 3,
   "id": "3961fa7f",
   "metadata": {},
   "outputs": [],
   "source": [
    "cv2.imshow(\"img1\",a)\n",
    "cv2.imshow(\"img2\",b)\n",
    "cv2.waitKey(5)\n",
    "cv2.destroyAllWindows()"
   ]
  },
  {
   "cell_type": "code",
   "execution_count": 4,
   "id": "b981a9cd",
   "metadata": {},
   "outputs": [],
   "source": [
    "blend=cv2.addWeighted(a,0.5,b,0.3,0)"
   ]
  },
  {
   "cell_type": "code",
   "execution_count": 5,
   "id": "4f08ffb4",
   "metadata": {},
   "outputs": [],
   "source": [
    "cv2.imshow(\"blend\",blend)\n",
    "cv2.imshow(\"img1\",a)\n",
    "cv2.imshow(\"img2\",b)\n",
    "cv2.waitKey(5)\n",
    "cv2.destroyAllWindows()"
   ]
  },
  {
   "cell_type": "code",
   "execution_count": 6,
   "id": "29d94dfd",
   "metadata": {},
   "outputs": [],
   "source": [
    "sub=cv2.subtract(a,b)"
   ]
  },
  {
   "cell_type": "code",
   "execution_count": 7,
   "id": "37a3d8db",
   "metadata": {
    "scrolled": true
   },
   "outputs": [],
   "source": [
    "cv2.imshow(\"sub\",sub)\n",
    "cv2.waitKey(0)\n",
    "cv2.destroyAllWindows()"
   ]
  },
  {
   "cell_type": "code",
   "execution_count": 8,
   "id": "bcbddcf0",
   "metadata": {},
   "outputs": [],
   "source": [
    "AND=cv2.bitwise_and(a,b)\n",
    "OR=cv2.bitwise_or(a,b)\n",
    "NOT=cv2.bitwise_not(a,b)\n",
    "XOR=cv2.bitwise_xor(a,b)"
   ]
  },
  {
   "cell_type": "code",
   "execution_count": 9,
   "id": "2e2f43e1",
   "metadata": {},
   "outputs": [
    {
     "data": {
      "text/plain": [
       "-1"
      ]
     },
     "execution_count": 9,
     "metadata": {},
     "output_type": "execute_result"
    }
   ],
   "source": [
    "cv2.imshow(\"and\",AND)\n",
    "cv2.waitKey(0)\n",
    "cv2.imshow(\"or\",OR)\n",
    "cv2.waitKey(0)\n",
    "cv2.imshow(\"not\",NOT)\n",
    "cv2.waitKey(0)\n",
    "cv2.imshow(\"xor\",XOR)\n",
    "cv2.waitKey(0)"
   ]
  },
  {
   "cell_type": "code",
   "execution_count": 10,
   "id": "4999a5ed",
   "metadata": {
    "scrolled": true
   },
   "outputs": [],
   "source": [
    "NOR=cv2.bitwise_not(OR)"
   ]
  },
  {
   "cell_type": "code",
   "execution_count": 11,
   "id": "7453fa9d",
   "metadata": {},
   "outputs": [],
   "source": [
    "cv2.imshow(\"nor\",NOR)\n",
    "cv2.waitKey(0)\n",
    "cv2.destroyAllWindows()"
   ]
  },
  {
   "cell_type": "code",
   "execution_count": 14,
   "id": "fe5e2380",
   "metadata": {},
   "outputs": [],
   "source": [
    "roi=c[25:500,10:167]"
   ]
  },
  {
   "cell_type": "code",
   "execution_count": 15,
   "id": "356a6be4",
   "metadata": {},
   "outputs": [],
   "source": [
    "cv2.imshow(\"ROI\",roi)\n",
    "cv2.waitKey(0)\n",
    "cv2.destroyAllWindows()"
   ]
  },
  {
   "cell_type": "code",
   "execution_count": null,
   "id": "fce485ad",
   "metadata": {},
   "outputs": [],
   "source": []
  }
 ],
 "metadata": {
  "kernelspec": {
   "display_name": "Python 3 (ipykernel)",
   "language": "python",
   "name": "python3"
  },
  "language_info": {
   "codemirror_mode": {
    "name": "ipython",
    "version": 3
   },
   "file_extension": ".py",
   "mimetype": "text/x-python",
   "name": "python",
   "nbconvert_exporter": "python",
   "pygments_lexer": "ipython3",
   "version": "3.11.5"
  }
 },
 "nbformat": 4,
 "nbformat_minor": 5
}
