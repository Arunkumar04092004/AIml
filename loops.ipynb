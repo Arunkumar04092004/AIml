{
 "cells": [
  {
   "cell_type": "code",
   "execution_count": null,
   "id": "e4fb06f8",
   "metadata": {},
   "outputs": [],
   "source": [
    "products=[]\n",
    "a=int(input(\" how many products: \"))\n",
    "for i in range(0,a):\n",
    "    products.append(input(\"Name of the products: \"))"
   ]
  },
  {
   "cell_type": "code",
   "execution_count": null,
   "id": "73390b0a",
   "metadata": {},
   "outputs": [],
   "source": [
    "products\n",
    "\n"
   ]
  },
  {
   "cell_type": "code",
   "execution_count": null,
   "id": "f38ffcf7",
   "metadata": {},
   "outputs": [],
   "source": [
    "while <condition>:\n",
    "    <statements>\n",
    "    "
   ]
  },
  {
   "cell_type": "code",
   "execution_count": null,
   "id": "24193cb0",
   "metadata": {
    "scrolled": true
   },
   "outputs": [],
   "source": [
    "for i in range(0,11,1):\n",
    "    print(i)"
   ]
  },
  {
   "cell_type": "code",
   "execution_count": null,
   "id": "eba5b0a3",
   "metadata": {},
   "outputs": [],
   "source": [
    "i=10\n",
    "while i<50:\n",
    "    print(i)\n",
    "    i+=5\n",
    "    "
   ]
  },
  {
   "cell_type": "code",
   "execution_count": null,
   "id": "b8641bd0",
   "metadata": {},
   "outputs": [],
   "source": [
    "i=1\n",
    "while i>=0:\n",
    "    print(i)\n",
    "    \n",
    "    \n",
    "    "
   ]
  },
  {
   "cell_type": "code",
   "execution_count": 10,
   "id": "e6a76bd9",
   "metadata": {},
   "outputs": [
    {
     "name": "stdout",
     "output_type": "stream",
     "text": [
      "22\n",
      "Fibonacci series is: \n",
      "0\n",
      "1\n",
      "1\n",
      "2\n",
      "3\n",
      "5\n",
      "8\n",
      "13\n",
      "21\n",
      "34\n",
      "55\n",
      "89\n",
      "144\n",
      "233\n",
      "377\n",
      "610\n",
      "987\n",
      "1597\n",
      "2584\n",
      "4181\n",
      "6765\n",
      "10946\n"
     ]
    }
   ],
   "source": [
    "n = int(input())\n",
    "a = 0\n",
    "b = 1\n",
    "sum = a + b\n",
    "count = 1\n",
    "print(\"Fibonacci series is: \")\n",
    "while (count <= n):\n",
    "    count += 1\n",
    "    print(a)\n",
    "    a = b\n",
    "    b = sum\n",
    "    sum = a + b\n"
   ]
  },
  {
   "cell_type": "code",
   "execution_count": null,
   "id": "70ac9512",
   "metadata": {},
   "outputs": [],
   "source": [
    "a=0\n",
    "b=1\n",
    "c=a+b\n"
   ]
  }
 ],
 "metadata": {
  "kernelspec": {
   "display_name": "Python 3 (ipykernel)",
   "language": "python",
   "name": "python3"
  },
  "language_info": {
   "codemirror_mode": {
    "name": "ipython",
    "version": 3
   },
   "file_extension": ".py",
   "mimetype": "text/x-python",
   "name": "python",
   "nbconvert_exporter": "python",
   "pygments_lexer": "ipython3",
   "version": "3.11.4"
  }
 },
 "nbformat": 4,
 "nbformat_minor": 5
}
