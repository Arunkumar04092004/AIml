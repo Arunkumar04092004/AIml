{
 "cells": [
  {
   "cell_type": "code",
   "execution_count": 15,
   "id": "6b4f66aa",
   "metadata": {},
   "outputs": [
    {
     "name": "stdout",
     "output_type": "stream",
     "text": [
      "enter your m1 mark: 99\n",
      "enter your m2 mark: 99\n",
      "enter your m3 mark: 99\n",
      "enter your m4 mark: 100\n",
      "average mark is:  99.25\n",
      "exam result: pass\n"
     ]
    }
   ],
   "source": [
    "m1=float(input(\"enter your m1 mark: \"))\n",
    "m2=float(input(\"enter your m2 mark: \"))\n",
    "m3=float(input(\"enter your m3 mark: \"))\n",
    "m4=float(input(\"enter your m4 mark: \"))\n",
    "sum=m1+m2+m3+m4\n",
    "avg=sum/4\n",
    "print(\"average mark is: \",avg)\n",
    "if avg>=35:\n",
    "    print(\"exam result: pass\")\n",
    "else:\n",
    "    print(\"exam result: fail\")\n",
    "\n",
    "\n",
    "    "
   ]
  },
  {
   "cell_type": "code",
   "execution_count": null,
   "id": "ae281b11",
   "metadata": {},
   "outputs": [],
   "source": []
  },
  {
   "cell_type": "code",
   "execution_count": null,
   "id": "11a3a469",
   "metadata": {},
   "outputs": [],
   "source": []
  }
 ],
 "metadata": {
  "kernelspec": {
   "display_name": "Python 3 (ipykernel)",
   "language": "python",
   "name": "python3"
  },
  "language_info": {
   "codemirror_mode": {
    "name": "ipython",
    "version": 3
   },
   "file_extension": ".py",
   "mimetype": "text/x-python",
   "name": "python",
   "nbconvert_exporter": "python",
   "pygments_lexer": "ipython3",
   "version": "3.11.4"
  }
 },
 "nbformat": 4,
 "nbformat_minor": 5
}
