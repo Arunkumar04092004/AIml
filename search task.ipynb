{
 "cells": [
  {
   "cell_type": "code",
   "execution_count": 15,
   "id": "5b4c823b",
   "metadata": {},
   "outputs": [],
   "source": [
    "graph={'home':['maxwellschool'],\n",
    "      'maxwellschool':['railwaystation','aathupaalam'],\n",
    "       'railwaystation':['aathupaalam'],\n",
    "      'aathupaalam':['oldbusstand','newbusstand'],\n",
    "      'newbusstand':['bypass'],\n",
    "      'bypass':['vallam'],\n",
    "      'vallam':['pmist'],\n",
    "      'oldbusstand':['tmc'],\n",
    "      'tmc':['pillayarpatti'],\n",
    "      'pillayarpatti':['pmist'],\n",
    "       'pmist':['vallam']\n",
    "      }"
   ]
  },
  {
   "cell_type": "code",
   "execution_count": 16,
   "id": "51054fc4",
   "metadata": {},
   "outputs": [
    {
     "name": "stdout",
     "output_type": "stream",
     "text": [
      "{'home': ['maxwellschool'], 'maxwellschool': ['railwaystation', 'aathupaalam'], 'railwaystation': ['aathupaalam'], 'aathupaalam': ['oldbusstand', 'newbusstand'], 'newbusstand': ['bypass'], 'bypass': ['vallam'], 'vallam': ['pmist'], 'oldbusstand': ['tmc'], 'tmc': ['pillayarpatti'], 'pillayarpatti': ['pmist'], 'pmist': ['vallam']}\n"
     ]
    }
   ],
   "source": [
    "print(graph)"
   ]
  },
  {
   "cell_type": "code",
   "execution_count": 17,
   "id": "9d2f9ad7",
   "metadata": {},
   "outputs": [],
   "source": [
    "from collections import deque\n",
    "def route(graph,start,goal):\n",
    "    visited=[]\n",
    "    queue=deque([start])\n",
    "    while queue:\n",
    "        node=queue.popleft()\n",
    "        if node not in visited:\n",
    "            visited.append(node)\n",
    "            print(\"I have visited\",node)\n",
    "            neighbournode=graph[node]\n",
    "            if node==goal:\n",
    "                print('I have reached the goal , the path I travelled is',visited)\n",
    "            for neighbours in neighbournode:\n",
    "                queue.append(neighbours)"
   ]
  },
  {
   "cell_type": "code",
   "execution_count": 18,
   "id": "29f17ab8",
   "metadata": {},
   "outputs": [
    {
     "name": "stdout",
     "output_type": "stream",
     "text": [
      "I have visited home\n",
      "I have visited maxwellschool\n",
      "I have visited railwaystation\n",
      "I have visited aathupaalam\n",
      "I have visited oldbusstand\n",
      "I have visited newbusstand\n",
      "I have visited tmc\n",
      "I have visited bypass\n",
      "I have visited pillayarpatti\n",
      "I have visited vallam\n",
      "I have visited pmist\n",
      "I have reached the goal , the path I travelled is ['home', 'maxwellschool', 'railwaystation', 'aathupaalam', 'oldbusstand', 'newbusstand', 'tmc', 'bypass', 'pillayarpatti', 'vallam', 'pmist']\n"
     ]
    }
   ],
   "source": [
    "route(graph,'home','pmist')"
   ]
  },
  {
   "cell_type": "code",
   "execution_count": null,
   "id": "fb2eff22",
   "metadata": {},
   "outputs": [],
   "source": []
  }
 ],
 "metadata": {
  "kernelspec": {
   "display_name": "Python 3 (ipykernel)",
   "language": "python",
   "name": "python3"
  },
  "language_info": {
   "codemirror_mode": {
    "name": "ipython",
    "version": 3
   },
   "file_extension": ".py",
   "mimetype": "text/x-python",
   "name": "python",
   "nbconvert_exporter": "python",
   "pygments_lexer": "ipython3",
   "version": "3.11.5"
  }
 },
 "nbformat": 4,
 "nbformat_minor": 5
}
